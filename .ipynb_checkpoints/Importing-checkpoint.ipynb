{
 "cells": [
  {
   "cell_type": "code",
   "execution_count": 2,
   "metadata": {},
   "outputs": [],
   "source": [
    "import pandas as pd\n",
    "import numpy as np"
   ]
  },
  {
   "cell_type": "code",
   "execution_count": 3,
   "metadata": {},
   "outputs": [
    {
     "name": "stdout",
     "output_type": "stream",
     "text": [
      "Collecting kaggle\n",
      "  Downloading kaggle-1.5.8.tar.gz (59 kB)\n",
      "Collecting urllib3<1.25,>=1.21.1\n",
      "  Downloading urllib3-1.24.3-py2.py3-none-any.whl (118 kB)\n",
      "Requirement already satisfied: six>=1.10 in c:\\users\\alisa\\anaconda3\\envs\\ml-env\\lib\\site-packages (from kaggle) (1.15.0)\n",
      "Requirement already satisfied: certifi in c:\\users\\alisa\\anaconda3\\envs\\ml-env\\lib\\site-packages (from kaggle) (2020.6.20)\n",
      "Requirement already satisfied: python-dateutil in c:\\users\\alisa\\anaconda3\\envs\\ml-env\\lib\\site-packages (from kaggle) (2.8.1)\n",
      "Collecting requests\n",
      "  Downloading requests-2.24.0-py2.py3-none-any.whl (61 kB)\n",
      "Collecting tqdm\n",
      "  Downloading tqdm-4.49.0-py2.py3-none-any.whl (69 kB)\n",
      "Collecting python-slugify\n",
      "  Downloading python-slugify-4.0.1.tar.gz (11 kB)\n",
      "Collecting slugify\n",
      "  Downloading slugify-0.0.1.tar.gz (1.2 kB)\n",
      "Collecting idna<3,>=2.5\n",
      "  Downloading idna-2.10-py2.py3-none-any.whl (58 kB)\n",
      "Collecting chardet<4,>=3.0.2\n",
      "  Downloading chardet-3.0.4-py2.py3-none-any.whl (133 kB)\n",
      "Collecting text-unidecode>=1.3\n",
      "  Downloading text_unidecode-1.3-py2.py3-none-any.whl (78 kB)\n",
      "Building wheels for collected packages: kaggle, python-slugify, slugify\n",
      "  Building wheel for kaggle (setup.py): started\n",
      "  Building wheel for kaggle (setup.py): finished with status 'done'\n",
      "  Created wheel for kaggle: filename=kaggle-1.5.8-py3-none-any.whl size=73278 sha256=25493a36fc2aaa3ef5d118a6d7a43ef0dcaffa449eb4fa0c8085b7fd7f8bdd19\n",
      "  Stored in directory: c:\\users\\alisa\\appdata\\local\\pip\\cache\\wheels\\cf\\aa\\f0\\ed1179bbcd729b29d0dfda59826fb3b55f0a4a0c3f713c1c82\n",
      "  Building wheel for python-slugify (setup.py): started\n",
      "  Building wheel for python-slugify (setup.py): finished with status 'done'\n",
      "  Created wheel for python-slugify: filename=python_slugify-4.0.1-py2.py3-none-any.whl size=6772 sha256=51cec4c08683e8ddd6d127cab02eeaaaa5b1e6293366f45b519041147124341b\n",
      "  Stored in directory: c:\\users\\alisa\\appdata\\local\\pip\\cache\\wheels\\72\\e6\\db\\122611605e60148f54ee2abaca98b2bbeafc6e22486a867bad\n",
      "  Building wheel for slugify (setup.py): started\n",
      "  Building wheel for slugify (setup.py): finished with status 'done'\n",
      "  Created wheel for slugify: filename=slugify-0.0.1-py3-none-any.whl size=1913 sha256=1d0c88356e987024e8e1ed9d3a1865acd8dbbf3ad3f1bf6843e2581003cd1294\n",
      "  Stored in directory: c:\\users\\alisa\\appdata\\local\\pip\\cache\\wheels\\7d\\51\\b0\\c584cbdd0a8fc685d68677e58cde93814cbbc7fd9867fb5fe6\n",
      "Successfully built kaggle python-slugify slugify\n",
      "Installing collected packages: urllib3, idna, chardet, requests, tqdm, text-unidecode, python-slugify, slugify, kaggle\n",
      "Successfully installed chardet-3.0.4 idna-2.10 kaggle-1.5.8 python-slugify-4.0.1 requests-2.24.0 slugify-0.0.1 text-unidecode-1.3 tqdm-4.49.0 urllib3-1.24.3\n"
     ]
    }
   ],
   "source": [
    "!pip install kaggle\n"
   ]
  },
  {
   "cell_type": "code",
   "execution_count": null,
   "metadata": {},
   "outputs": [],
   "source": []
  }
 ],
 "metadata": {
  "kernelspec": {
   "display_name": "Python 3",
   "language": "python",
   "name": "python3"
  },
  "language_info": {
   "codemirror_mode": {
    "name": "ipython",
    "version": 3
   },
   "file_extension": ".py",
   "mimetype": "text/x-python",
   "name": "python",
   "nbconvert_exporter": "python",
   "pygments_lexer": "ipython3",
   "version": "3.6.12"
  }
 },
 "nbformat": 4,
 "nbformat_minor": 4
}
